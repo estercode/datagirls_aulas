{
 "cells": [
  {
   "cell_type": "code",
   "execution_count": 745,
   "id": "2141dcfa",
   "metadata": {},
   "outputs": [],
   "source": [
    "import pandas as pd"
   ]
  },
  {
   "cell_type": "code",
   "execution_count": 746,
   "id": "2b3a512a",
   "metadata": {},
   "outputs": [],
   "source": [
    "url = 'https://raw.githubusercontent.com/Mirlaa/bootcamp-restart25-pandas/refs/heads/main/Dados/imoveis-valores.csv'"
   ]
  },
  {
   "cell_type": "code",
   "execution_count": 747,
   "id": "c98cd41b",
   "metadata": {},
   "outputs": [],
   "source": [
    "df = pd.read_csv(url)"
   ]
  },
  {
   "cell_type": "code",
   "execution_count": 748,
   "id": "da539f8a",
   "metadata": {},
   "outputs": [
    {
     "data": {
      "text/html": [
       "<div>\n",
       "<style scoped>\n",
       "    .dataframe tbody tr th:only-of-type {\n",
       "        vertical-align: middle;\n",
       "    }\n",
       "\n",
       "    .dataframe tbody tr th {\n",
       "        vertical-align: top;\n",
       "    }\n",
       "\n",
       "    .dataframe thead th {\n",
       "        text-align: right;\n",
       "    }\n",
       "</style>\n",
       "<table border=\"1\" class=\"dataframe\">\n",
       "  <thead>\n",
       "    <tr style=\"text-align: right;\">\n",
       "      <th></th>\n",
       "      <th>preco</th>\n",
       "      <th>tipo</th>\n",
       "      <th>area</th>\n",
       "      <th>quartos</th>\n",
       "      <th>bairro</th>\n",
       "    </tr>\n",
       "  </thead>\n",
       "  <tbody>\n",
       "    <tr>\n",
       "      <th>0</th>\n",
       "      <td>1800</td>\n",
       "      <td>Apartamento</td>\n",
       "      <td>45</td>\n",
       "      <td>1</td>\n",
       "      <td>asa sul</td>\n",
       "    </tr>\n",
       "    <tr>\n",
       "      <th>1</th>\n",
       "      <td>600</td>\n",
       "      <td>Kitnet</td>\n",
       "      <td>30</td>\n",
       "      <td>1</td>\n",
       "      <td>asa norte</td>\n",
       "    </tr>\n",
       "    <tr>\n",
       "      <th>2</th>\n",
       "      <td>1200</td>\n",
       "      <td>Apartamento</td>\n",
       "      <td>37</td>\n",
       "      <td>1</td>\n",
       "      <td>aguas claras</td>\n",
       "    </tr>\n",
       "    <tr>\n",
       "      <th>3</th>\n",
       "      <td>600</td>\n",
       "      <td>Kitnet</td>\n",
       "      <td>25</td>\n",
       "      <td>1</td>\n",
       "      <td>asa norte</td>\n",
       "    </tr>\n",
       "    <tr>\n",
       "      <th>4</th>\n",
       "      <td>2600</td>\n",
       "      <td>Hotel-Flat</td>\n",
       "      <td>49</td>\n",
       "      <td>1</td>\n",
       "      <td>asa sul</td>\n",
       "    </tr>\n",
       "    <tr>\n",
       "      <th>...</th>\n",
       "      <td>...</td>\n",
       "      <td>...</td>\n",
       "      <td>...</td>\n",
       "      <td>...</td>\n",
       "      <td>...</td>\n",
       "    </tr>\n",
       "    <tr>\n",
       "      <th>2866</th>\n",
       "      <td>12000</td>\n",
       "      <td>Apartamento</td>\n",
       "      <td>134</td>\n",
       "      <td>4</td>\n",
       "      <td>asa norte</td>\n",
       "    </tr>\n",
       "    <tr>\n",
       "      <th>2867</th>\n",
       "      <td>3980</td>\n",
       "      <td>Casa</td>\n",
       "      <td>250</td>\n",
       "      <td>4</td>\n",
       "      <td>jardim botanico</td>\n",
       "    </tr>\n",
       "    <tr>\n",
       "      <th>2868</th>\n",
       "      <td>3900</td>\n",
       "      <td>Apartamento</td>\n",
       "      <td>124</td>\n",
       "      <td>4</td>\n",
       "      <td>octogonal</td>\n",
       "    </tr>\n",
       "    <tr>\n",
       "      <th>2869</th>\n",
       "      <td>9000</td>\n",
       "      <td>Casa</td>\n",
       "      <td>690</td>\n",
       "      <td>5</td>\n",
       "      <td>lago norte</td>\n",
       "    </tr>\n",
       "    <tr>\n",
       "      <th>2870</th>\n",
       "      <td>4700</td>\n",
       "      <td>Casa</td>\n",
       "      <td>300</td>\n",
       "      <td>4</td>\n",
       "      <td>jardim botanico</td>\n",
       "    </tr>\n",
       "  </tbody>\n",
       "</table>\n",
       "<p>2871 rows × 5 columns</p>\n",
       "</div>"
      ],
      "text/plain": [
       "      preco         tipo  area  quartos           bairro\n",
       "0      1800  Apartamento    45        1          asa sul\n",
       "1       600       Kitnet    30        1        asa norte\n",
       "2      1200  Apartamento    37        1     aguas claras\n",
       "3       600       Kitnet    25        1        asa norte\n",
       "4      2600   Hotel-Flat    49        1          asa sul\n",
       "...     ...          ...   ...      ...              ...\n",
       "2866  12000  Apartamento   134        4        asa norte\n",
       "2867   3980         Casa   250        4  jardim botanico\n",
       "2868   3900  Apartamento   124        4        octogonal\n",
       "2869   9000         Casa   690        5       lago norte\n",
       "2870   4700         Casa   300        4  jardim botanico\n",
       "\n",
       "[2871 rows x 5 columns]"
      ]
     },
     "execution_count": 748,
     "metadata": {},
     "output_type": "execute_result"
    }
   ],
   "source": [
    "df"
   ]
  },
  {
   "cell_type": "markdown",
   "id": "781870a4",
   "metadata": {},
   "source": [
    "total de linha e colunas:"
   ]
  },
  {
   "cell_type": "code",
   "execution_count": 749,
   "id": "35023970",
   "metadata": {},
   "outputs": [
    {
     "data": {
      "text/plain": [
       "(2871, 5)"
      ]
     },
     "execution_count": 749,
     "metadata": {},
     "output_type": "execute_result"
    }
   ],
   "source": [
    "df.shape"
   ]
  },
  {
   "cell_type": "markdown",
   "id": "7b089017",
   "metadata": {},
   "source": [
    " Nome das colunas do dataframe"
   ]
  },
  {
   "cell_type": "code",
   "execution_count": 750,
   "id": "de89ac84",
   "metadata": {},
   "outputs": [
    {
     "data": {
      "text/plain": [
       "Index(['preco', 'tipo', 'area', 'quartos', 'bairro'], dtype='object')"
      ]
     },
     "execution_count": 750,
     "metadata": {},
     "output_type": "execute_result"
    }
   ],
   "source": [
    "df.columns"
   ]
  },
  {
   "cell_type": "code",
   "execution_count": 751,
   "id": "ea268426",
   "metadata": {},
   "outputs": [
    {
     "data": {
      "text/plain": [
       "0        1800\n",
       "1         600\n",
       "2        1200\n",
       "3         600\n",
       "4        2600\n",
       "        ...  \n",
       "2866    12000\n",
       "2867     3980\n",
       "2868     3900\n",
       "2869     9000\n",
       "2870     4700\n",
       "Name: preco, Length: 2871, dtype: int64"
      ]
     },
     "execution_count": 751,
     "metadata": {},
     "output_type": "execute_result"
    }
   ],
   "source": [
    "df['preco']"
   ]
  },
  {
   "cell_type": "code",
   "execution_count": 752,
   "id": "9e811c0f",
   "metadata": {},
   "outputs": [
    {
     "data": {
      "text/plain": [
       "pandas.core.frame.DataFrame"
      ]
     },
     "execution_count": 752,
     "metadata": {},
     "output_type": "execute_result"
    }
   ],
   "source": [
    "type(df)"
   ]
  },
  {
   "cell_type": "code",
   "execution_count": 753,
   "id": "18e138fa",
   "metadata": {},
   "outputs": [],
   "source": [
    "x = df['preco']"
   ]
  },
  {
   "cell_type": "code",
   "execution_count": 754,
   "id": "b37d9cf5",
   "metadata": {},
   "outputs": [
    {
     "data": {
      "text/plain": [
       "pandas.core.series.Series"
      ]
     },
     "execution_count": 754,
     "metadata": {},
     "output_type": "execute_result"
    }
   ],
   "source": [
    "type(x)"
   ]
  },
  {
   "cell_type": "code",
   "execution_count": 755,
   "id": "afe87f74",
   "metadata": {},
   "outputs": [
    {
     "data": {
      "text/plain": [
       "0        1800\n",
       "1         600\n",
       "2        1200\n",
       "3         600\n",
       "4        2600\n",
       "        ...  \n",
       "2866    12000\n",
       "2867     3980\n",
       "2868     3900\n",
       "2869     9000\n",
       "2870     4700\n",
       "Name: preco, Length: 2871, dtype: int64"
      ]
     },
     "execution_count": 755,
     "metadata": {},
     "output_type": "execute_result"
    }
   ],
   "source": [
    "df.preco"
   ]
  },
  {
   "cell_type": "markdown",
   "id": "8fe2fd83",
   "metadata": {},
   "source": [
    "Seleção de colunas:"
   ]
  },
  {
   "cell_type": "code",
   "execution_count": 756,
   "id": "9749d54a",
   "metadata": {},
   "outputs": [
    {
     "data": {
      "text/html": [
       "<div>\n",
       "<style scoped>\n",
       "    .dataframe tbody tr th:only-of-type {\n",
       "        vertical-align: middle;\n",
       "    }\n",
       "\n",
       "    .dataframe tbody tr th {\n",
       "        vertical-align: top;\n",
       "    }\n",
       "\n",
       "    .dataframe thead th {\n",
       "        text-align: right;\n",
       "    }\n",
       "</style>\n",
       "<table border=\"1\" class=\"dataframe\">\n",
       "  <thead>\n",
       "    <tr style=\"text-align: right;\">\n",
       "      <th></th>\n",
       "      <th>tipo</th>\n",
       "      <th>area</th>\n",
       "      <th>quartos</th>\n",
       "    </tr>\n",
       "  </thead>\n",
       "  <tbody>\n",
       "    <tr>\n",
       "      <th>0</th>\n",
       "      <td>Apartamento</td>\n",
       "      <td>45</td>\n",
       "      <td>1</td>\n",
       "    </tr>\n",
       "    <tr>\n",
       "      <th>1</th>\n",
       "      <td>Kitnet</td>\n",
       "      <td>30</td>\n",
       "      <td>1</td>\n",
       "    </tr>\n",
       "    <tr>\n",
       "      <th>2</th>\n",
       "      <td>Apartamento</td>\n",
       "      <td>37</td>\n",
       "      <td>1</td>\n",
       "    </tr>\n",
       "    <tr>\n",
       "      <th>3</th>\n",
       "      <td>Kitnet</td>\n",
       "      <td>25</td>\n",
       "      <td>1</td>\n",
       "    </tr>\n",
       "    <tr>\n",
       "      <th>4</th>\n",
       "      <td>Hotel-Flat</td>\n",
       "      <td>49</td>\n",
       "      <td>1</td>\n",
       "    </tr>\n",
       "    <tr>\n",
       "      <th>...</th>\n",
       "      <td>...</td>\n",
       "      <td>...</td>\n",
       "      <td>...</td>\n",
       "    </tr>\n",
       "    <tr>\n",
       "      <th>2866</th>\n",
       "      <td>Apartamento</td>\n",
       "      <td>134</td>\n",
       "      <td>4</td>\n",
       "    </tr>\n",
       "    <tr>\n",
       "      <th>2867</th>\n",
       "      <td>Casa</td>\n",
       "      <td>250</td>\n",
       "      <td>4</td>\n",
       "    </tr>\n",
       "    <tr>\n",
       "      <th>2868</th>\n",
       "      <td>Apartamento</td>\n",
       "      <td>124</td>\n",
       "      <td>4</td>\n",
       "    </tr>\n",
       "    <tr>\n",
       "      <th>2869</th>\n",
       "      <td>Casa</td>\n",
       "      <td>690</td>\n",
       "      <td>5</td>\n",
       "    </tr>\n",
       "    <tr>\n",
       "      <th>2870</th>\n",
       "      <td>Casa</td>\n",
       "      <td>300</td>\n",
       "      <td>4</td>\n",
       "    </tr>\n",
       "  </tbody>\n",
       "</table>\n",
       "<p>2871 rows × 3 columns</p>\n",
       "</div>"
      ],
      "text/plain": [
       "             tipo  area  quartos\n",
       "0     Apartamento    45        1\n",
       "1          Kitnet    30        1\n",
       "2     Apartamento    37        1\n",
       "3          Kitnet    25        1\n",
       "4      Hotel-Flat    49        1\n",
       "...           ...   ...      ...\n",
       "2866  Apartamento   134        4\n",
       "2867         Casa   250        4\n",
       "2868  Apartamento   124        4\n",
       "2869         Casa   690        5\n",
       "2870         Casa   300        4\n",
       "\n",
       "[2871 rows x 3 columns]"
      ]
     },
     "execution_count": 756,
     "metadata": {},
     "output_type": "execute_result"
    }
   ],
   "source": [
    "df[['tipo', 'area', 'quartos']]"
   ]
  },
  {
   "cell_type": "markdown",
   "id": "bfc992dd",
   "metadata": {},
   "source": [
    "Visualização as primeiras 15 linhas"
   ]
  },
  {
   "cell_type": "code",
   "execution_count": 757,
   "id": "42ff460a",
   "metadata": {},
   "outputs": [
    {
     "data": {
      "text/html": [
       "<div>\n",
       "<style scoped>\n",
       "    .dataframe tbody tr th:only-of-type {\n",
       "        vertical-align: middle;\n",
       "    }\n",
       "\n",
       "    .dataframe tbody tr th {\n",
       "        vertical-align: top;\n",
       "    }\n",
       "\n",
       "    .dataframe thead th {\n",
       "        text-align: right;\n",
       "    }\n",
       "</style>\n",
       "<table border=\"1\" class=\"dataframe\">\n",
       "  <thead>\n",
       "    <tr style=\"text-align: right;\">\n",
       "      <th></th>\n",
       "      <th>preco</th>\n",
       "      <th>tipo</th>\n",
       "      <th>area</th>\n",
       "      <th>quartos</th>\n",
       "      <th>bairro</th>\n",
       "    </tr>\n",
       "  </thead>\n",
       "  <tbody>\n",
       "    <tr>\n",
       "      <th>0</th>\n",
       "      <td>1800</td>\n",
       "      <td>Apartamento</td>\n",
       "      <td>45</td>\n",
       "      <td>1</td>\n",
       "      <td>asa sul</td>\n",
       "    </tr>\n",
       "    <tr>\n",
       "      <th>1</th>\n",
       "      <td>600</td>\n",
       "      <td>Kitnet</td>\n",
       "      <td>30</td>\n",
       "      <td>1</td>\n",
       "      <td>asa norte</td>\n",
       "    </tr>\n",
       "    <tr>\n",
       "      <th>2</th>\n",
       "      <td>1200</td>\n",
       "      <td>Apartamento</td>\n",
       "      <td>37</td>\n",
       "      <td>1</td>\n",
       "      <td>aguas claras</td>\n",
       "    </tr>\n",
       "    <tr>\n",
       "      <th>3</th>\n",
       "      <td>600</td>\n",
       "      <td>Kitnet</td>\n",
       "      <td>25</td>\n",
       "      <td>1</td>\n",
       "      <td>asa norte</td>\n",
       "    </tr>\n",
       "    <tr>\n",
       "      <th>4</th>\n",
       "      <td>2600</td>\n",
       "      <td>Hotel-Flat</td>\n",
       "      <td>49</td>\n",
       "      <td>1</td>\n",
       "      <td>asa sul</td>\n",
       "    </tr>\n",
       "    <tr>\n",
       "      <th>5</th>\n",
       "      <td>750</td>\n",
       "      <td>Kitnet</td>\n",
       "      <td>25</td>\n",
       "      <td>1</td>\n",
       "      <td>asa norte</td>\n",
       "    </tr>\n",
       "    <tr>\n",
       "      <th>6</th>\n",
       "      <td>800</td>\n",
       "      <td>Kitnet</td>\n",
       "      <td>28</td>\n",
       "      <td>1</td>\n",
       "      <td>asa norte</td>\n",
       "    </tr>\n",
       "    <tr>\n",
       "      <th>7</th>\n",
       "      <td>2600</td>\n",
       "      <td>Apartamento</td>\n",
       "      <td>51</td>\n",
       "      <td>1</td>\n",
       "      <td>asa sul</td>\n",
       "    </tr>\n",
       "    <tr>\n",
       "      <th>8</th>\n",
       "      <td>2700</td>\n",
       "      <td>Apartamento</td>\n",
       "      <td>48</td>\n",
       "      <td>1</td>\n",
       "      <td>lago norte</td>\n",
       "    </tr>\n",
       "    <tr>\n",
       "      <th>9</th>\n",
       "      <td>2300</td>\n",
       "      <td>Apartamento</td>\n",
       "      <td>48</td>\n",
       "      <td>1</td>\n",
       "      <td>asa norte</td>\n",
       "    </tr>\n",
       "    <tr>\n",
       "      <th>10</th>\n",
       "      <td>480</td>\n",
       "      <td>Casa</td>\n",
       "      <td>30</td>\n",
       "      <td>1</td>\n",
       "      <td>taguatinga</td>\n",
       "    </tr>\n",
       "    <tr>\n",
       "      <th>11</th>\n",
       "      <td>700</td>\n",
       "      <td>Apartamento</td>\n",
       "      <td>55</td>\n",
       "      <td>1</td>\n",
       "      <td>areal</td>\n",
       "    </tr>\n",
       "    <tr>\n",
       "      <th>12</th>\n",
       "      <td>1600</td>\n",
       "      <td>Apartamento</td>\n",
       "      <td>29</td>\n",
       "      <td>1</td>\n",
       "      <td>sudoeste</td>\n",
       "    </tr>\n",
       "    <tr>\n",
       "      <th>13</th>\n",
       "      <td>600</td>\n",
       "      <td>Kitnet</td>\n",
       "      <td>25</td>\n",
       "      <td>1</td>\n",
       "      <td>asa norte</td>\n",
       "    </tr>\n",
       "    <tr>\n",
       "      <th>14</th>\n",
       "      <td>2600</td>\n",
       "      <td>Apartamento</td>\n",
       "      <td>51</td>\n",
       "      <td>1</td>\n",
       "      <td>asa sul</td>\n",
       "    </tr>\n",
       "  </tbody>\n",
       "</table>\n",
       "</div>"
      ],
      "text/plain": [
       "    preco         tipo  area  quartos        bairro\n",
       "0    1800  Apartamento    45        1       asa sul\n",
       "1     600       Kitnet    30        1     asa norte\n",
       "2    1200  Apartamento    37        1  aguas claras\n",
       "3     600       Kitnet    25        1     asa norte\n",
       "4    2600   Hotel-Flat    49        1       asa sul\n",
       "5     750       Kitnet    25        1     asa norte\n",
       "6     800       Kitnet    28        1     asa norte\n",
       "7    2600  Apartamento    51        1       asa sul\n",
       "8    2700  Apartamento    48        1    lago norte\n",
       "9    2300  Apartamento    48        1     asa norte\n",
       "10    480         Casa    30        1    taguatinga\n",
       "11    700  Apartamento    55        1         areal\n",
       "12   1600  Apartamento    29        1      sudoeste\n",
       "13    600       Kitnet    25        1     asa norte\n",
       "14   2600  Apartamento    51        1       asa sul"
      ]
     },
     "execution_count": 757,
     "metadata": {},
     "output_type": "execute_result"
    }
   ],
   "source": [
    "df.iloc[:15]"
   ]
  },
  {
   "cell_type": "markdown",
   "id": "7b43a2e2",
   "metadata": {},
   "source": [
    "Visualização de linhas específicas de 5 a 15 linhas"
   ]
  },
  {
   "cell_type": "code",
   "execution_count": 758,
   "id": "80f4e617",
   "metadata": {},
   "outputs": [
    {
     "data": {
      "text/html": [
       "<div>\n",
       "<style scoped>\n",
       "    .dataframe tbody tr th:only-of-type {\n",
       "        vertical-align: middle;\n",
       "    }\n",
       "\n",
       "    .dataframe tbody tr th {\n",
       "        vertical-align: top;\n",
       "    }\n",
       "\n",
       "    .dataframe thead th {\n",
       "        text-align: right;\n",
       "    }\n",
       "</style>\n",
       "<table border=\"1\" class=\"dataframe\">\n",
       "  <thead>\n",
       "    <tr style=\"text-align: right;\">\n",
       "      <th></th>\n",
       "      <th>preco</th>\n",
       "      <th>tipo</th>\n",
       "      <th>area</th>\n",
       "      <th>quartos</th>\n",
       "      <th>bairro</th>\n",
       "    </tr>\n",
       "  </thead>\n",
       "  <tbody>\n",
       "    <tr>\n",
       "      <th>5</th>\n",
       "      <td>750</td>\n",
       "      <td>Kitnet</td>\n",
       "      <td>25</td>\n",
       "      <td>1</td>\n",
       "      <td>asa norte</td>\n",
       "    </tr>\n",
       "    <tr>\n",
       "      <th>6</th>\n",
       "      <td>800</td>\n",
       "      <td>Kitnet</td>\n",
       "      <td>28</td>\n",
       "      <td>1</td>\n",
       "      <td>asa norte</td>\n",
       "    </tr>\n",
       "    <tr>\n",
       "      <th>7</th>\n",
       "      <td>2600</td>\n",
       "      <td>Apartamento</td>\n",
       "      <td>51</td>\n",
       "      <td>1</td>\n",
       "      <td>asa sul</td>\n",
       "    </tr>\n",
       "    <tr>\n",
       "      <th>8</th>\n",
       "      <td>2700</td>\n",
       "      <td>Apartamento</td>\n",
       "      <td>48</td>\n",
       "      <td>1</td>\n",
       "      <td>lago norte</td>\n",
       "    </tr>\n",
       "    <tr>\n",
       "      <th>9</th>\n",
       "      <td>2300</td>\n",
       "      <td>Apartamento</td>\n",
       "      <td>48</td>\n",
       "      <td>1</td>\n",
       "      <td>asa norte</td>\n",
       "    </tr>\n",
       "    <tr>\n",
       "      <th>10</th>\n",
       "      <td>480</td>\n",
       "      <td>Casa</td>\n",
       "      <td>30</td>\n",
       "      <td>1</td>\n",
       "      <td>taguatinga</td>\n",
       "    </tr>\n",
       "    <tr>\n",
       "      <th>11</th>\n",
       "      <td>700</td>\n",
       "      <td>Apartamento</td>\n",
       "      <td>55</td>\n",
       "      <td>1</td>\n",
       "      <td>areal</td>\n",
       "    </tr>\n",
       "    <tr>\n",
       "      <th>12</th>\n",
       "      <td>1600</td>\n",
       "      <td>Apartamento</td>\n",
       "      <td>29</td>\n",
       "      <td>1</td>\n",
       "      <td>sudoeste</td>\n",
       "    </tr>\n",
       "    <tr>\n",
       "      <th>13</th>\n",
       "      <td>600</td>\n",
       "      <td>Kitnet</td>\n",
       "      <td>25</td>\n",
       "      <td>1</td>\n",
       "      <td>asa norte</td>\n",
       "    </tr>\n",
       "    <tr>\n",
       "      <th>14</th>\n",
       "      <td>2600</td>\n",
       "      <td>Apartamento</td>\n",
       "      <td>51</td>\n",
       "      <td>1</td>\n",
       "      <td>asa sul</td>\n",
       "    </tr>\n",
       "    <tr>\n",
       "      <th>15</th>\n",
       "      <td>2500</td>\n",
       "      <td>Hotel-Flat</td>\n",
       "      <td>25</td>\n",
       "      <td>1</td>\n",
       "      <td>asa norte</td>\n",
       "    </tr>\n",
       "  </tbody>\n",
       "</table>\n",
       "</div>"
      ],
      "text/plain": [
       "    preco         tipo  area  quartos      bairro\n",
       "5     750       Kitnet    25        1   asa norte\n",
       "6     800       Kitnet    28        1   asa norte\n",
       "7    2600  Apartamento    51        1     asa sul\n",
       "8    2700  Apartamento    48        1  lago norte\n",
       "9    2300  Apartamento    48        1   asa norte\n",
       "10    480         Casa    30        1  taguatinga\n",
       "11    700  Apartamento    55        1       areal\n",
       "12   1600  Apartamento    29        1    sudoeste\n",
       "13    600       Kitnet    25        1   asa norte\n",
       "14   2600  Apartamento    51        1     asa sul\n",
       "15   2500   Hotel-Flat    25        1   asa norte"
      ]
     },
     "execution_count": 758,
     "metadata": {},
     "output_type": "execute_result"
    }
   ],
   "source": [
    "df.iloc[5:16]"
   ]
  },
  {
   "cell_type": "markdown",
   "id": "0eb63118",
   "metadata": {},
   "source": [
    "Selecionando linhas e colunas"
   ]
  },
  {
   "cell_type": "code",
   "execution_count": 759,
   "id": "33908a38",
   "metadata": {},
   "outputs": [
    {
     "data": {
      "text/html": [
       "<div>\n",
       "<style scoped>\n",
       "    .dataframe tbody tr th:only-of-type {\n",
       "        vertical-align: middle;\n",
       "    }\n",
       "\n",
       "    .dataframe tbody tr th {\n",
       "        vertical-align: top;\n",
       "    }\n",
       "\n",
       "    .dataframe thead th {\n",
       "        text-align: right;\n",
       "    }\n",
       "</style>\n",
       "<table border=\"1\" class=\"dataframe\">\n",
       "  <thead>\n",
       "    <tr style=\"text-align: right;\">\n",
       "      <th></th>\n",
       "      <th>preco</th>\n",
       "      <th>tipo</th>\n",
       "    </tr>\n",
       "  </thead>\n",
       "  <tbody>\n",
       "    <tr>\n",
       "      <th>1</th>\n",
       "      <td>600</td>\n",
       "      <td>Kitnet</td>\n",
       "    </tr>\n",
       "    <tr>\n",
       "      <th>2</th>\n",
       "      <td>1200</td>\n",
       "      <td>Apartamento</td>\n",
       "    </tr>\n",
       "    <tr>\n",
       "      <th>3</th>\n",
       "      <td>600</td>\n",
       "      <td>Kitnet</td>\n",
       "    </tr>\n",
       "    <tr>\n",
       "      <th>4</th>\n",
       "      <td>2600</td>\n",
       "      <td>Hotel-Flat</td>\n",
       "    </tr>\n",
       "    <tr>\n",
       "      <th>5</th>\n",
       "      <td>750</td>\n",
       "      <td>Kitnet</td>\n",
       "    </tr>\n",
       "  </tbody>\n",
       "</table>\n",
       "</div>"
      ],
      "text/plain": [
       "   preco         tipo\n",
       "1    600       Kitnet\n",
       "2   1200  Apartamento\n",
       "3    600       Kitnet\n",
       "4   2600   Hotel-Flat\n",
       "5    750       Kitnet"
      ]
     },
     "execution_count": 759,
     "metadata": {},
     "output_type": "execute_result"
    }
   ],
   "source": [
    "df.iloc[1:6, 0:2]"
   ]
  },
  {
   "cell_type": "markdown",
   "id": "8155798a",
   "metadata": {},
   "source": [
    "Condições lógicas"
   ]
  },
  {
   "cell_type": "code",
   "execution_count": 760,
   "id": "bc8921d8",
   "metadata": {},
   "outputs": [
    {
     "data": {
      "text/html": [
       "<div>\n",
       "<style scoped>\n",
       "    .dataframe tbody tr th:only-of-type {\n",
       "        vertical-align: middle;\n",
       "    }\n",
       "\n",
       "    .dataframe tbody tr th {\n",
       "        vertical-align: top;\n",
       "    }\n",
       "\n",
       "    .dataframe thead th {\n",
       "        text-align: right;\n",
       "    }\n",
       "</style>\n",
       "<table border=\"1\" class=\"dataframe\">\n",
       "  <thead>\n",
       "    <tr style=\"text-align: right;\">\n",
       "      <th></th>\n",
       "      <th>preco</th>\n",
       "      <th>tipo</th>\n",
       "      <th>area</th>\n",
       "      <th>quartos</th>\n",
       "      <th>bairro</th>\n",
       "    </tr>\n",
       "  </thead>\n",
       "  <tbody>\n",
       "    <tr>\n",
       "      <th>1912</th>\n",
       "      <td>330000</td>\n",
       "      <td>Apartamento</td>\n",
       "      <td>52</td>\n",
       "      <td>2</td>\n",
       "      <td>aguas claras</td>\n",
       "    </tr>\n",
       "    <tr>\n",
       "      <th>2061</th>\n",
       "      <td>270000</td>\n",
       "      <td>Apartamento</td>\n",
       "      <td>61</td>\n",
       "      <td>2</td>\n",
       "      <td>guara i</td>\n",
       "    </tr>\n",
       "    <tr>\n",
       "      <th>2386</th>\n",
       "      <td>500000</td>\n",
       "      <td>Casa</td>\n",
       "      <td>120</td>\n",
       "      <td>3</td>\n",
       "      <td>nucleo bandeirante</td>\n",
       "    </tr>\n",
       "    <tr>\n",
       "      <th>2470</th>\n",
       "      <td>800000</td>\n",
       "      <td>Casa</td>\n",
       "      <td>500</td>\n",
       "      <td>3</td>\n",
       "      <td>samambaia</td>\n",
       "    </tr>\n",
       "    <tr>\n",
       "      <th>2497</th>\n",
       "      <td>1800000</td>\n",
       "      <td>Casa</td>\n",
       "      <td>400</td>\n",
       "      <td>4</td>\n",
       "      <td>jardim botanico</td>\n",
       "    </tr>\n",
       "    <tr>\n",
       "      <th>2798</th>\n",
       "      <td>1121411</td>\n",
       "      <td>Apartamento</td>\n",
       "      <td>185</td>\n",
       "      <td>4</td>\n",
       "      <td>aguas claras</td>\n",
       "    </tr>\n",
       "    <tr>\n",
       "      <th>2854</th>\n",
       "      <td>1090000</td>\n",
       "      <td>Apartamento</td>\n",
       "      <td>260</td>\n",
       "      <td>4</td>\n",
       "      <td>aguas claras</td>\n",
       "    </tr>\n",
       "  </tbody>\n",
       "</table>\n",
       "</div>"
      ],
      "text/plain": [
       "        preco         tipo  area  quartos              bairro\n",
       "1912   330000  Apartamento    52        2        aguas claras\n",
       "2061   270000  Apartamento    61        2             guara i\n",
       "2386   500000         Casa   120        3  nucleo bandeirante\n",
       "2470   800000         Casa   500        3           samambaia\n",
       "2497  1800000         Casa   400        4     jardim botanico\n",
       "2798  1121411  Apartamento   185        4        aguas claras\n",
       "2854  1090000  Apartamento   260        4        aguas claras"
      ]
     },
     "execution_count": 760,
     "metadata": {},
     "output_type": "execute_result"
    }
   ],
   "source": [
    "df[df['preco']>250000]"
   ]
  },
  {
   "cell_type": "markdown",
   "id": "7a67bb6b",
   "metadata": {},
   "source": [
    "# Encontrando imformação gerais sobre dados"
   ]
  },
  {
   "cell_type": "code",
   "execution_count": 761,
   "id": "471cff99",
   "metadata": {},
   "outputs": [
    {
     "name": "stdout",
     "output_type": "stream",
     "text": [
      "<class 'pandas.core.frame.DataFrame'>\n",
      "RangeIndex: 2871 entries, 0 to 2870\n",
      "Data columns (total 5 columns):\n",
      " #   Column   Non-Null Count  Dtype \n",
      "---  ------   --------------  ----- \n",
      " 0   preco    2871 non-null   int64 \n",
      " 1   tipo     2871 non-null   object\n",
      " 2   area     2871 non-null   int64 \n",
      " 3   quartos  2871 non-null   int64 \n",
      " 4   bairro   2871 non-null   object\n",
      "dtypes: int64(3), object(2)\n",
      "memory usage: 112.3+ KB\n"
     ]
    }
   ],
   "source": [
    "df.info()"
   ]
  },
  {
   "cell_type": "markdown",
   "id": "a961311a",
   "metadata": {},
   "source": [
    "Indentificação de métricas"
   ]
  },
  {
   "cell_type": "code",
   "execution_count": 762,
   "id": "4a045662",
   "metadata": {},
   "outputs": [
    {
     "data": {
      "text/html": [
       "<div>\n",
       "<style scoped>\n",
       "    .dataframe tbody tr th:only-of-type {\n",
       "        vertical-align: middle;\n",
       "    }\n",
       "\n",
       "    .dataframe tbody tr th {\n",
       "        vertical-align: top;\n",
       "    }\n",
       "\n",
       "    .dataframe thead th {\n",
       "        text-align: right;\n",
       "    }\n",
       "</style>\n",
       "<table border=\"1\" class=\"dataframe\">\n",
       "  <thead>\n",
       "    <tr style=\"text-align: right;\">\n",
       "      <th></th>\n",
       "      <th>preco</th>\n",
       "      <th>area</th>\n",
       "      <th>quartos</th>\n",
       "    </tr>\n",
       "  </thead>\n",
       "  <tbody>\n",
       "    <tr>\n",
       "      <th>count</th>\n",
       "      <td>2.871000e+03</td>\n",
       "      <td>2871.000000</td>\n",
       "      <td>2871.000000</td>\n",
       "    </tr>\n",
       "    <tr>\n",
       "      <th>mean</th>\n",
       "      <td>5.540766e+03</td>\n",
       "      <td>130.944270</td>\n",
       "      <td>2.022640</td>\n",
       "    </tr>\n",
       "    <tr>\n",
       "      <th>std</th>\n",
       "      <td>4.920834e+04</td>\n",
       "      <td>544.737849</td>\n",
       "      <td>1.563023</td>\n",
       "    </tr>\n",
       "    <tr>\n",
       "      <th>min</th>\n",
       "      <td>0.000000e+00</td>\n",
       "      <td>0.000000</td>\n",
       "      <td>1.000000</td>\n",
       "    </tr>\n",
       "    <tr>\n",
       "      <th>25%</th>\n",
       "      <td>9.500000e+02</td>\n",
       "      <td>30.000000</td>\n",
       "      <td>1.000000</td>\n",
       "    </tr>\n",
       "    <tr>\n",
       "      <th>50%</th>\n",
       "      <td>1.400000e+03</td>\n",
       "      <td>48.000000</td>\n",
       "      <td>1.000000</td>\n",
       "    </tr>\n",
       "    <tr>\n",
       "      <th>75%</th>\n",
       "      <td>2.800000e+03</td>\n",
       "      <td>86.500000</td>\n",
       "      <td>3.000000</td>\n",
       "    </tr>\n",
       "    <tr>\n",
       "      <th>max</th>\n",
       "      <td>1.800000e+06</td>\n",
       "      <td>26462.000000</td>\n",
       "      <td>33.000000</td>\n",
       "    </tr>\n",
       "  </tbody>\n",
       "</table>\n",
       "</div>"
      ],
      "text/plain": [
       "              preco          area      quartos\n",
       "count  2.871000e+03   2871.000000  2871.000000\n",
       "mean   5.540766e+03    130.944270     2.022640\n",
       "std    4.920834e+04    544.737849     1.563023\n",
       "min    0.000000e+00      0.000000     1.000000\n",
       "25%    9.500000e+02     30.000000     1.000000\n",
       "50%    1.400000e+03     48.000000     1.000000\n",
       "75%    2.800000e+03     86.500000     3.000000\n",
       "max    1.800000e+06  26462.000000    33.000000"
      ]
     },
     "execution_count": 762,
     "metadata": {},
     "output_type": "execute_result"
    }
   ],
   "source": [
    "df.describe()"
   ]
  },
  {
   "cell_type": "markdown",
   "id": "00711c6c",
   "metadata": {},
   "source": [
    "Verficando métricas estatísticas da coluna `quartos`"
   ]
  },
  {
   "cell_type": "code",
   "execution_count": 763,
   "id": "c620bf89",
   "metadata": {},
   "outputs": [
    {
     "data": {
      "text/plain": [
       "count    2871.000000\n",
       "mean        2.022640\n",
       "std         1.563023\n",
       "min         1.000000\n",
       "25%         1.000000\n",
       "50%         1.000000\n",
       "75%         3.000000\n",
       "max        33.000000\n",
       "Name: quartos, dtype: float64"
      ]
     },
     "execution_count": 763,
     "metadata": {},
     "output_type": "execute_result"
    }
   ],
   "source": [
    "df.quartos.describe()"
   ]
  },
  {
   "cell_type": "code",
   "execution_count": 764,
   "id": "779f8624",
   "metadata": {},
   "outputs": [
    {
     "data": {
      "text/html": [
       "<div>\n",
       "<style scoped>\n",
       "    .dataframe tbody tr th:only-of-type {\n",
       "        vertical-align: middle;\n",
       "    }\n",
       "\n",
       "    .dataframe tbody tr th {\n",
       "        vertical-align: top;\n",
       "    }\n",
       "\n",
       "    .dataframe thead th {\n",
       "        text-align: right;\n",
       "    }\n",
       "</style>\n",
       "<table border=\"1\" class=\"dataframe\">\n",
       "  <thead>\n",
       "    <tr style=\"text-align: right;\">\n",
       "      <th></th>\n",
       "      <th>tipo</th>\n",
       "      <th>bairro</th>\n",
       "    </tr>\n",
       "  </thead>\n",
       "  <tbody>\n",
       "    <tr>\n",
       "      <th>count</th>\n",
       "      <td>2871</td>\n",
       "      <td>2871</td>\n",
       "    </tr>\n",
       "    <tr>\n",
       "      <th>unique</th>\n",
       "      <td>11</td>\n",
       "      <td>29</td>\n",
       "    </tr>\n",
       "    <tr>\n",
       "      <th>top</th>\n",
       "      <td>Apartamento</td>\n",
       "      <td>asa norte</td>\n",
       "    </tr>\n",
       "    <tr>\n",
       "      <th>freq</th>\n",
       "      <td>1613</td>\n",
       "      <td>661</td>\n",
       "    </tr>\n",
       "  </tbody>\n",
       "</table>\n",
       "</div>"
      ],
      "text/plain": [
       "               tipo     bairro\n",
       "count          2871       2871\n",
       "unique           11         29\n",
       "top     Apartamento  asa norte\n",
       "freq           1613        661"
      ]
     },
     "execution_count": 764,
     "metadata": {},
     "output_type": "execute_result"
    }
   ],
   "source": [
    "df.describe(include=[object])"
   ]
  },
  {
   "cell_type": "markdown",
   "id": "81faf5a5",
   "metadata": {},
   "source": [
    "# Conteúdo extra:"
   ]
  },
  {
   "cell_type": "code",
   "execution_count": 765,
   "id": "7b668402",
   "metadata": {},
   "outputs": [
    {
     "name": "stdout",
     "output_type": "stream",
     "text": [
      "Média dos valores: R$ 5540.77\n",
      "\n",
      "Mediana dos valores: R$ 1400.00\n",
      "\n",
      "Valor mínimo: R$ 0.00 | Valor máximo: R$ 1800000.00\n"
     ]
    }
   ],
   "source": [
    "#Média dos valores dos imóveis\n",
    "media_valor = df['preco'].mean()\n",
    "print(f\"Média dos valores: R$ {media_valor:.2f}\\n\")\n",
    "\n",
    "#Mediana dos valores\n",
    "mediana_valor = df['preco'].median()\n",
    "print(f\"Mediana dos valores: R$ {mediana_valor:.2f}\\n\")\n",
    "\n",
    "#Valores mínimos e máximos\n",
    "valor_min = df['preco'].min() \n",
    "valor_max = df['preco'].max() \n",
    "print(f\"Valor mínimo: R$ {valor_min:.2f} | Valor máximo: R$ {valor_max:.2f}\")\n"
   ]
  },
  {
   "cell_type": "markdown",
   "id": "1a64b4e4",
   "metadata": {},
   "source": [
    "Contagem de valores únicos:"
   ]
  },
  {
   "cell_type": "code",
   "execution_count": 766,
   "id": "0796d824",
   "metadata": {},
   "outputs": [
    {
     "data": {
      "text/plain": [
       "29"
      ]
     },
     "execution_count": 766,
     "metadata": {},
     "output_type": "execute_result"
    }
   ],
   "source": [
    "df['bairro'].nunique()"
   ]
  },
  {
   "cell_type": "code",
   "execution_count": 767,
   "id": "5f697e53",
   "metadata": {},
   "outputs": [
    {
     "data": {
      "text/plain": [
       "array(['asa sul', 'asa norte', 'aguas claras', 'lago norte', 'taguatinga',\n",
       "       'areal', 'sudoeste', 'guara ii', 'ceilandia', 'samambaia',\n",
       "       'park sul', 'cruzeiro', 'noroeste', 'riacho fundo', 'sobradinho',\n",
       "       'nucleo bandeirante', 'jardim botanico', 'lago sul',\n",
       "       'vicente pires', 'guara i', 'santa maria', 'lucio costa',\n",
       "       'paranoa', 'recanto das emas', 'candangolandia', 'park way',\n",
       "       'octogonal', 'gama', 'mangueiral'], dtype=object)"
      ]
     },
     "execution_count": 767,
     "metadata": {},
     "output_type": "execute_result"
    }
   ],
   "source": [
    "df['bairro'].unique()"
   ]
  },
  {
   "cell_type": "code",
   "execution_count": 768,
   "id": "92efb98c",
   "metadata": {},
   "outputs": [
    {
     "data": {
      "text/plain": [
       "bairro\n",
       "asa norte             661\n",
       "sudoeste              280\n",
       "asa sul               278\n",
       "aguas claras          267\n",
       "taguatinga            207\n",
       "lago norte            140\n",
       "lago sul              140\n",
       "guara ii              121\n",
       "samambaia              92\n",
       "ceilandia              79\n",
       "nucleo bandeirante     67\n",
       "jardim botanico        59\n",
       "noroeste               56\n",
       "guara i                49\n",
       "riacho fundo           46\n",
       "cruzeiro               45\n",
       "park sul               38\n",
       "sobradinho             37\n",
       "areal                  30\n",
       "vicente pires          30\n",
       "mangueiral             25\n",
       "park way               25\n",
       "gama                   17\n",
       "octogonal              17\n",
       "santa maria            15\n",
       "lucio costa            14\n",
       "paranoa                13\n",
       "recanto das emas       13\n",
       "candangolandia         10\n",
       "Name: count, dtype: int64"
      ]
     },
     "execution_count": 768,
     "metadata": {},
     "output_type": "execute_result"
    }
   ],
   "source": [
    "df['bairro'].value_counts()"
   ]
  },
  {
   "cell_type": "markdown",
   "id": "757e4688",
   "metadata": {},
   "source": [
    "# Criações de Gráficos Simples"
   ]
  },
  {
   "cell_type": "code",
   "execution_count": 769,
   "id": "b4f21456",
   "metadata": {},
   "outputs": [
    {
     "data": {
      "text/plain": [
       "<Axes: xlabel='tipo'>"
      ]
     },
     "execution_count": 769,
     "metadata": {},
     "output_type": "execute_result"
    },
    {
     "data": {
      "image/png": "[encoded data removed]",
      "text/plain": [
       "<Figure size 640x480 with 1 Axes>"
      ]
     },
     "metadata": {},
     "output_type": "display_data"
    }
   ],
   "source": [
    "df['tipo'].value_counts().plot.bar()"
   ]
  },
  {
   "cell_type": "code",
   "execution_count": 770,
   "id": "0e21afb6",
   "metadata": {},
   "outputs": [
    {
     "data": {
      "text/plain": [
       "<Axes: xlabel='area', ylabel='preco'>"
      ]
     },
     "execution_count": 770,
     "metadata": {},
     "output_type": "execute_result"
    },
    {
     "data": {
      "image/png": "[encoded data removed]",
      "text/plain": [
       "<Figure size 640x480 with 1 Axes>"
      ]
     },
     "metadata": {},
     "output_type": "display_data"
    }
   ],
   "source": [
    "df.plot.scatter(x='area', y='preco' )"
   ]
  },
  {
   "cell_type": "code",
   "execution_count": 771,
   "id": "6810943b",
   "metadata": {},
   "outputs": [
    {
     "data": {
      "text/plain": [
       "<Axes: >"
      ]
     },
     "execution_count": 771,
     "metadata": {},
     "output_type": "execute_result"
    },
    {
     "data": {
      "image/png": "[encoded data removed]",
      "text/plain": [
       "<Figure size 640x480 with 1 Axes>"
      ]
     },
     "metadata": {},
     "output_type": "display_data"
    }
   ],
   "source": [
    "df.preco.plot.box()"
   ]
  },
  {
   "cell_type": "markdown",
   "id": "eabd4664",
   "metadata": {},
   "source": [
    "- Filtragem"
   ]
  },
  {
   "cell_type": "code",
   "execution_count": 772,
   "id": "59e7ff2d",
   "metadata": {},
   "outputs": [],
   "source": [
    "df_filtrado = df[df['preco']<250000]\n",
    "df_filtrado = df_filtrado[df_filtrado['area']<25000]"
   ]
  },
  {
   "cell_type": "markdown",
   "id": "76cceb13",
   "metadata": {},
   "source": []
  },
  {
   "cell_type": "code",
   "execution_count": 773,
   "id": "e66d8d40",
   "metadata": {},
   "outputs": [
    {
     "data": {
      "text/plain": [
       "<Axes: xlabel='area', ylabel='preco'>"
      ]
     },
     "execution_count": 773,
     "metadata": {},
     "output_type": "execute_result"
    },
    {
     "data": {
      "image/png": "[encoded data removed]",
      "text/plain": [
       "<Figure size 640x480 with 1 Axes>"
      ]
     },
     "metadata": {},
     "output_type": "display_data"
    }
   ],
   "source": [
    "df_filtrado.plot.scatter(x='area', y='preco' )"
   ]
  },
  {
   "cell_type": "markdown",
   "id": "5210b0d8",
   "metadata": {},
   "source": [
    "Agrupamento e obtendo o preço médio"
   ]
  },
  {
   "cell_type": "code",
   "execution_count": 774,
   "id": "07081a3c",
   "metadata": {},
   "outputs": [
    {
     "data": {
      "text/plain": [
       "tipo\n",
       "Apartamento     2631.598881\n",
       "Casa            9297.311850\n",
       "Garagem          200.000000\n",
       "Hotel-Flat      2491.784483\n",
       "Kitnet          1222.702875\n",
       "Loja           11257.142857\n",
       "Lote            1800.000000\n",
       "Ponto          21650.000000\n",
       "Predio          1900.000000\n",
       "Rural           6000.000000\n",
       "Sala            1072.222222\n",
       "Name: preco, dtype: float64"
      ]
     },
     "execution_count": 774,
     "metadata": {},
     "output_type": "execute_result"
    }
   ],
   "source": [
    "df_filtrado.groupby('tipo')['preco'].mean()"
   ]
  },
  {
   "cell_type": "markdown",
   "id": "d89c746b",
   "metadata": {},
   "source": [
    "Consultas Simples"
   ]
  },
  {
   "cell_type": "code",
   "execution_count": 775,
   "id": "6e8030de",
   "metadata": {},
   "outputs": [
    {
     "data": {
      "text/html": [
       "<div>\n",
       "<style scoped>\n",
       "    .dataframe tbody tr th:only-of-type {\n",
       "        vertical-align: middle;\n",
       "    }\n",
       "\n",
       "    .dataframe tbody tr th {\n",
       "        vertical-align: top;\n",
       "    }\n",
       "\n",
       "    .dataframe thead th {\n",
       "        text-align: right;\n",
       "    }\n",
       "</style>\n",
       "<table border=\"1\" class=\"dataframe\">\n",
       "  <thead>\n",
       "    <tr style=\"text-align: right;\">\n",
       "      <th></th>\n",
       "      <th>preco</th>\n",
       "      <th>tipo</th>\n",
       "      <th>area</th>\n",
       "      <th>quartos</th>\n",
       "      <th>bairro</th>\n",
       "    </tr>\n",
       "  </thead>\n",
       "  <tbody>\n",
       "    <tr>\n",
       "      <th>1451</th>\n",
       "      <td>10000</td>\n",
       "      <td>Apartamento</td>\n",
       "      <td>138</td>\n",
       "      <td>2</td>\n",
       "      <td>sudoeste</td>\n",
       "    </tr>\n",
       "    <tr>\n",
       "      <th>1454</th>\n",
       "      <td>2600</td>\n",
       "      <td>Apartamento</td>\n",
       "      <td>68</td>\n",
       "      <td>2</td>\n",
       "      <td>octogonal</td>\n",
       "    </tr>\n",
       "    <tr>\n",
       "      <th>1455</th>\n",
       "      <td>4400</td>\n",
       "      <td>Apartamento</td>\n",
       "      <td>139</td>\n",
       "      <td>2</td>\n",
       "      <td>sudoeste</td>\n",
       "    </tr>\n",
       "    <tr>\n",
       "      <th>1456</th>\n",
       "      <td>2100</td>\n",
       "      <td>Apartamento</td>\n",
       "      <td>57</td>\n",
       "      <td>2</td>\n",
       "      <td>guara ii</td>\n",
       "    </tr>\n",
       "    <tr>\n",
       "      <th>1457</th>\n",
       "      <td>4400</td>\n",
       "      <td>Apartamento</td>\n",
       "      <td>80</td>\n",
       "      <td>2</td>\n",
       "      <td>asa norte</td>\n",
       "    </tr>\n",
       "    <tr>\n",
       "      <th>...</th>\n",
       "      <td>...</td>\n",
       "      <td>...</td>\n",
       "      <td>...</td>\n",
       "      <td>...</td>\n",
       "      <td>...</td>\n",
       "    </tr>\n",
       "    <tr>\n",
       "      <th>2861</th>\n",
       "      <td>12000</td>\n",
       "      <td>Apartamento</td>\n",
       "      <td>645</td>\n",
       "      <td>4</td>\n",
       "      <td>asa norte</td>\n",
       "    </tr>\n",
       "    <tr>\n",
       "      <th>2863</th>\n",
       "      <td>4400</td>\n",
       "      <td>Apartamento</td>\n",
       "      <td>200</td>\n",
       "      <td>4</td>\n",
       "      <td>asa sul</td>\n",
       "    </tr>\n",
       "    <tr>\n",
       "      <th>2865</th>\n",
       "      <td>3700</td>\n",
       "      <td>Apartamento</td>\n",
       "      <td>124</td>\n",
       "      <td>4</td>\n",
       "      <td>octogonal</td>\n",
       "    </tr>\n",
       "    <tr>\n",
       "      <th>2866</th>\n",
       "      <td>12000</td>\n",
       "      <td>Apartamento</td>\n",
       "      <td>134</td>\n",
       "      <td>4</td>\n",
       "      <td>asa norte</td>\n",
       "    </tr>\n",
       "    <tr>\n",
       "      <th>2868</th>\n",
       "      <td>3900</td>\n",
       "      <td>Apartamento</td>\n",
       "      <td>124</td>\n",
       "      <td>4</td>\n",
       "      <td>octogonal</td>\n",
       "    </tr>\n",
       "  </tbody>\n",
       "</table>\n",
       "<p>943 rows × 5 columns</p>\n",
       "</div>"
      ],
      "text/plain": [
       "      preco         tipo  area  quartos     bairro\n",
       "1451  10000  Apartamento   138        2   sudoeste\n",
       "1454   2600  Apartamento    68        2  octogonal\n",
       "1455   4400  Apartamento   139        2   sudoeste\n",
       "1456   2100  Apartamento    57        2   guara ii\n",
       "1457   4400  Apartamento    80        2  asa norte\n",
       "...     ...          ...   ...      ...        ...\n",
       "2861  12000  Apartamento   645        4  asa norte\n",
       "2863   4400  Apartamento   200        4    asa sul\n",
       "2865   3700  Apartamento   124        4  octogonal\n",
       "2866  12000  Apartamento   134        4  asa norte\n",
       "2868   3900  Apartamento   124        4  octogonal\n",
       "\n",
       "[943 rows x 5 columns]"
      ]
     },
     "execution_count": 775,
     "metadata": {},
     "output_type": "execute_result"
    }
   ],
   "source": [
    "df_filtrado.query('tipo == \"Apartamento\"and quartos >= 2')"
   ]
  },
  {
   "cell_type": "markdown",
   "id": "ba30403b",
   "metadata": {},
   "source": [
    "Novas colunas"
   ]
  },
  {
   "cell_type": "code",
   "execution_count": 776,
   "id": "d391770c",
   "metadata": {},
   "outputs": [
    {
     "data": {
      "text/plain": [
       "0       40.000000\n",
       "1       20.000000\n",
       "2       32.432432\n",
       "3       24.000000\n",
       "4       53.061224\n",
       "          ...    \n",
       "2866    89.552239\n",
       "2867    15.920000\n",
       "2868    31.451613\n",
       "2869    13.043478\n",
       "2870    15.666667\n",
       "Length: 2863, dtype: float64"
      ]
     },
     "execution_count": 776,
     "metadata": {},
     "output_type": "execute_result"
    }
   ],
   "source": [
    "preco_area = df_filtrado['preco'] / df_filtrado['area']\n",
    "preco_area"
   ]
  },
  {
   "cell_type": "code",
   "execution_count": 777,
   "id": "0fa9a629",
   "metadata": {},
   "outputs": [
    {
     "data": {
      "text/html": [
       "<div>\n",
       "<style scoped>\n",
       "    .dataframe tbody tr th:only-of-type {\n",
       "        vertical-align: middle;\n",
       "    }\n",
       "\n",
       "    .dataframe tbody tr th {\n",
       "        vertical-align: top;\n",
       "    }\n",
       "\n",
       "    .dataframe thead th {\n",
       "        text-align: right;\n",
       "    }\n",
       "</style>\n",
       "<table border=\"1\" class=\"dataframe\">\n",
       "  <thead>\n",
       "    <tr style=\"text-align: right;\">\n",
       "      <th></th>\n",
       "      <th>preco</th>\n",
       "      <th>tipo</th>\n",
       "      <th>area</th>\n",
       "      <th>quartos</th>\n",
       "      <th>bairro</th>\n",
       "      <th>preco_por_area</th>\n",
       "    </tr>\n",
       "  </thead>\n",
       "  <tbody>\n",
       "    <tr>\n",
       "      <th>0</th>\n",
       "      <td>1800</td>\n",
       "      <td>Apartamento</td>\n",
       "      <td>45</td>\n",
       "      <td>1</td>\n",
       "      <td>asa sul</td>\n",
       "      <td>40.000000</td>\n",
       "    </tr>\n",
       "    <tr>\n",
       "      <th>1</th>\n",
       "      <td>600</td>\n",
       "      <td>Kitnet</td>\n",
       "      <td>30</td>\n",
       "      <td>1</td>\n",
       "      <td>asa norte</td>\n",
       "      <td>20.000000</td>\n",
       "    </tr>\n",
       "    <tr>\n",
       "      <th>2</th>\n",
       "      <td>1200</td>\n",
       "      <td>Apartamento</td>\n",
       "      <td>37</td>\n",
       "      <td>1</td>\n",
       "      <td>aguas claras</td>\n",
       "      <td>32.432432</td>\n",
       "    </tr>\n",
       "    <tr>\n",
       "      <th>3</th>\n",
       "      <td>600</td>\n",
       "      <td>Kitnet</td>\n",
       "      <td>25</td>\n",
       "      <td>1</td>\n",
       "      <td>asa norte</td>\n",
       "      <td>24.000000</td>\n",
       "    </tr>\n",
       "    <tr>\n",
       "      <th>4</th>\n",
       "      <td>2600</td>\n",
       "      <td>Hotel-Flat</td>\n",
       "      <td>49</td>\n",
       "      <td>1</td>\n",
       "      <td>asa sul</td>\n",
       "      <td>53.061224</td>\n",
       "    </tr>\n",
       "    <tr>\n",
       "      <th>...</th>\n",
       "      <td>...</td>\n",
       "      <td>...</td>\n",
       "      <td>...</td>\n",
       "      <td>...</td>\n",
       "      <td>...</td>\n",
       "      <td>...</td>\n",
       "    </tr>\n",
       "    <tr>\n",
       "      <th>2866</th>\n",
       "      <td>12000</td>\n",
       "      <td>Apartamento</td>\n",
       "      <td>134</td>\n",
       "      <td>4</td>\n",
       "      <td>asa norte</td>\n",
       "      <td>89.552239</td>\n",
       "    </tr>\n",
       "    <tr>\n",
       "      <th>2867</th>\n",
       "      <td>3980</td>\n",
       "      <td>Casa</td>\n",
       "      <td>250</td>\n",
       "      <td>4</td>\n",
       "      <td>jardim botanico</td>\n",
       "      <td>15.920000</td>\n",
       "    </tr>\n",
       "    <tr>\n",
       "      <th>2868</th>\n",
       "      <td>3900</td>\n",
       "      <td>Apartamento</td>\n",
       "      <td>124</td>\n",
       "      <td>4</td>\n",
       "      <td>octogonal</td>\n",
       "      <td>31.451613</td>\n",
       "    </tr>\n",
       "    <tr>\n",
       "      <th>2869</th>\n",
       "      <td>9000</td>\n",
       "      <td>Casa</td>\n",
       "      <td>690</td>\n",
       "      <td>5</td>\n",
       "      <td>lago norte</td>\n",
       "      <td>13.043478</td>\n",
       "    </tr>\n",
       "    <tr>\n",
       "      <th>2870</th>\n",
       "      <td>4700</td>\n",
       "      <td>Casa</td>\n",
       "      <td>300</td>\n",
       "      <td>4</td>\n",
       "      <td>jardim botanico</td>\n",
       "      <td>15.666667</td>\n",
       "    </tr>\n",
       "  </tbody>\n",
       "</table>\n",
       "<p>2863 rows × 6 columns</p>\n",
       "</div>"
      ],
      "text/plain": [
       "      preco         tipo  area  quartos           bairro  preco_por_area\n",
       "0      1800  Apartamento    45        1          asa sul       40.000000\n",
       "1       600       Kitnet    30        1        asa norte       20.000000\n",
       "2      1200  Apartamento    37        1     aguas claras       32.432432\n",
       "3       600       Kitnet    25        1        asa norte       24.000000\n",
       "4      2600   Hotel-Flat    49        1          asa sul       53.061224\n",
       "...     ...          ...   ...      ...              ...             ...\n",
       "2866  12000  Apartamento   134        4        asa norte       89.552239\n",
       "2867   3980         Casa   250        4  jardim botanico       15.920000\n",
       "2868   3900  Apartamento   124        4        octogonal       31.451613\n",
       "2869   9000         Casa   690        5       lago norte       13.043478\n",
       "2870   4700         Casa   300        4  jardim botanico       15.666667\n",
       "\n",
       "[2863 rows x 6 columns]"
      ]
     },
     "execution_count": 777,
     "metadata": {},
     "output_type": "execute_result"
    }
   ],
   "source": [
    "df_filtrado['preco_por_area'] = preco_area\n",
    "df_filtrado"
   ]
  },
  {
   "cell_type": "markdown",
   "id": "94fa6e74",
   "metadata": {},
   "source": [
    "# Geração de Saídas"
   ]
  },
  {
   "cell_type": "markdown",
   "id": "2b2d2804",
   "metadata": {},
   "source": [
    "Arquivo em CSV"
   ]
  },
  {
   "cell_type": "code",
   "execution_count": 778,
   "id": "b02ad24c",
   "metadata": {},
   "outputs": [],
   "source": [
    "df_filtrado.to_csv('dados_imoveis_filtrado.csv', index=False)"
   ]
  },
  {
   "cell_type": "markdown",
   "id": "5803e618",
   "metadata": {},
   "source": [
    "Arquivos em Json"
   ]
  },
  {
   "cell_type": "code",
   "execution_count": 779,
   "id": "5f4ca30e",
   "metadata": {},
   "outputs": [],
   "source": [
    "df_filtrado.to_json('dados_imoveis_filtrado.json', index=False)"
   ]
  }
 ],
 "metadata": {
  "kernelspec": {
   "display_name": "Python 3",
   "language": "python",
   "name": "python3"
  },
  "language_info": {
   "codemirror_mode": {
    "name": "ipython",
    "version": 3
   },
   "file_extension": ".py",
   "mimetype": "text/x-python",
   "name": "python",
   "nbconvert_exporter": "python",
   "pygments_lexer": "ipython3",
   "version": "3.12.1"
  }
 },
 "nbformat": 4,
 "nbformat_minor": 5
}
